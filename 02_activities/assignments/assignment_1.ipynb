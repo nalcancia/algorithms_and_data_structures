{
 "cells": [
  {
   "cell_type": "markdown",
   "metadata": {},
   "source": [
    "# Coding Problems\n",
    "\n",
    "## Objective\n",
    "\n",
    "This assignment aims to demonstrate how to study a data structures or algorithms question in depth to prepare for an industry coding interview. Leetcode is a popular coding practice site that many use to practice for technical interviews. Like behavioral interviews, it's important to practice and keep your skills sharp.\n",
    "\n",
    "## Group Size\n",
    "\n",
    "Please complete this individually.\n",
    "\n",
    "## Part 1:\n",
    "\n",
    "_*You will be assigned one of three problems based of your first name. Execute the code below, and that will tell you your assigned problem. Include the output as part of your submission (do not clear the output). The problems are based-off problems from Leetcode.*_\n"
   ]
  },
  {
   "cell_type": "code",
   "execution_count": 14,
   "metadata": {},
   "outputs": [
    {
     "name": "stdout",
     "output_type": "stream",
     "text": [
      "3\n"
     ]
    }
   ],
   "source": [
    "print((hash('Niccolo') % 3) + 1)\n",
    "\n",
    "# Output: 3"
   ]
  },
  {
   "cell_type": "markdown",
   "metadata": {},
   "source": [
    "<details>\n",
    "  <summary>Question 1</summary>\n",
    "\n",
    "  # Question One: Check Duplicates in Tree\n",
    "\n",
    "  Given the `root` of a binary tree, check whether it is contains a duplicate value. If a duplicate exists, return the duplicate value. If there are multiple duplicates, return the one with the closest distance to the root. If no duplicate exists, return -1.\n",
    "\n",
    "  ## Examples\n",
    "\n",
    "  ### Example 1\n",
    "\n",
    "  ![](./images/q1_ex1.png)\n",
    "\n",
    "  Input: `root = [1, 2, 2, 3, 5, 6, 7]` *What traversal method is this?*\n",
    "\n",
    "  Output: 2\n",
    "\n",
    "  ### Example 2\n",
    "\n",
    "  ![](./images/q1_ex2.png)\n",
    "\n",
    "  Input: `root = [1, 10, 2, 3, 10, 12, 12]`\n",
    "\n",
    "  Output: 10\n",
    "\n",
    "  ### Example 3\n",
    "\n",
    "  ![](./images/q1_ex3.png)\n",
    "\n",
    "  Input: `root = [10, 9, 8, 7]`\n",
    "\n",
    "  Output: -1\n",
    "\n",
    "</details>\n",
    "\n",
    "#### Starter Code for Question 1"
   ]
  },
  {
   "cell_type": "code",
   "execution_count": null,
   "metadata": {},
   "outputs": [],
   "source": [
    "# Definition for a binary tree node.\n",
    "# class TreeNode(object):\n",
    "#     def __init__(self, val = 0, left = None, right = None):\n",
    "#         self.val = val\n",
    "#         self.left = left\n",
    "#         self.right = right\n",
    "def is_duplicate(root: TreeNode) -> int:\n",
    "  # TODO"
   ]
  },
  {
   "cell_type": "markdown",
   "metadata": {},
   "source": [
    "<details>\n",
    "  <summary>Question 2</summary>\n",
    "\n",
    "  # Question Two: Path to Leaves\n",
    "\n",
    "  Given the `root` of a binary tree, return all root to leaf paths in any order.\n",
    "\n",
    "  ## Examples\n",
    "\n",
    "  ### Example 1\n",
    "\n",
    "  ![](./images/q1_ex1.png)\n",
    "\n",
    "  Input: `root = [1, 2, 2, 3, 5, 6, 7]` *What traversal method is this?*\n",
    "\n",
    "  Output: [[1, 2, 3], [1, 2, 5], [1, 2, 6], [1, 2, 7]]\n",
    "\n",
    "  ### Example 2\n",
    "\n",
    "  ![](./images/q1_ex3.png)\n",
    "\n",
    "  Input: `root = [10, 9, 7, 8]`\n",
    "\n",
    "  Output: [[10, 7], [10, 9, 8]]\n",
    "\n",
    "</details>\n",
    "\n",
    "#### Starter Code for Question 2"
   ]
  },
  {
   "cell_type": "code",
   "execution_count": null,
   "metadata": {},
   "outputs": [],
   "source": [
    "# Definition for a binary tree node.\n",
    "# class TreeNode(object):\n",
    "#     def __init__(self, val = 0, left = None, right = None):\n",
    "#         self.val = val\n",
    "#         self.left = left\n",
    "#         self.right = right\n",
    "def bt_path(root: TreeNode) -> List[List[int]]:\n",
    "  # TODO"
   ]
  },
  {
   "cell_type": "markdown",
   "metadata": {},
   "source": [
    "<details>\n",
    "  <summary>Question 3</summary>\n",
    "\n",
    "  # Question Three: Missing Number in Range\n",
    " \n",
    "  You are given a list containing `n` integers in the range `[0, n]`. Return a list of numbers that are missing from the range `[0, n]` of the array. If there is no missing number, return -1. Note, all the integers in the list may not be unique.\n",
    "  \n",
    "  ## Examples\n",
    "\n",
    "  ### Example 1\n",
    "\n",
    "  Input: `lst = [0, 2]`\n",
    "\n",
    "  Output: [1]\n",
    "\n",
    "  ### Example 2\n",
    "\n",
    "  Input: `lst = [5, 0, 1]`\n",
    "\n",
    "  Output: [2, 3, 4]\n",
    "\n",
    "  ### Example 3\n",
    "\n",
    "  Input: `lst = [6, 8, 2, 3, 5, 7, 0, 1, 10]`\n",
    "\n",
    "  Output: [4, 9]\n",
    "\n",
    "</details>\n",
    "\n",
    "#### Starter Code for Question 3\n"
   ]
  },
  {
   "cell_type": "code",
   "execution_count": null,
   "metadata": {},
   "outputs": [],
   "source": [
    "def missing_num(nums: List) -> int:\n",
    "  # TODO"
   ]
  },
  {
   "cell_type": "markdown",
   "metadata": {},
   "source": [
    "\n",
    "## Part 2:\n",
    "\n",
    "-   Paraphrase the problem in your own words\n"
   ]
  },
  {
   "cell_type": "code",
   "execution_count": null,
   "metadata": {},
   "outputs": [],
   "source": [
    "# Your answer here\n",
    "\n",
    "# I am given a list of numbers that would range from 0 to n. My function should return a list of missing numbers in the range, if no numbers are missing I should return -1\n",
    "# \"You are given a list of n number\" - n here might not be the same as n in [0, n], cause the number of elements if there are numbers missing would not be equal to n used in [0, n].\n",
    "# It is possible to have duplicate numbers - so even if the count is equal to the max in range (+1) it would not necessarily mean that the list does not have missing numbers.\n",
    "# The range would always start with zero, given [0, n] and the function template does not have a way to specify any additional parameters.\n",
    "\n",
    "# Assumptions:\n",
    "# Always start at 0\n",
    "# Can be non-unique\n",
    "# empty input also retun -1\n",
    "# if already ordered, return -1\n",
    "# Initial list will not always n number of elements where n is the maxNumber + 1"
   ]
  },
  {
   "cell_type": "markdown",
   "metadata": {},
   "source": [
    "- In this .ipynb file, there are examples that illustrate how the code should work (the examples provided above). Create 2 new examples for the question you have been assigned, that demonstrate you understand the problem. For question 1 and 2, you don't need to create the tree demonstration, just the input and output.\n"
   ]
  },
  {
   "cell_type": "code",
   "execution_count": null,
   "metadata": {},
   "outputs": [],
   "source": [
    "# Your answer here\n",
    "\n",
    "# Example 1:\n",
    "# Input: lst = [0, 5]\n",
    "# Output: [1, 2, 3, 4]\n",
    "\n",
    "# Example 2:\n",
    "# Input: lst = [9, 9]\n",
    "# Output: [0, 1, 2, 3, 4, 5, 6, 7, 8]"
   ]
  },
  {
   "cell_type": "markdown",
   "metadata": {},
   "source": [
    "\n",
    "-   Code the solution to your assigned problem in Python (code chunk). Try to find the best time and space complexity solution!\n"
   ]
  },
  {
   "cell_type": "code",
   "execution_count": null,
   "metadata": {},
   "outputs": [],
   "source": [
    "def missing_num(nums):\n",
    "\n",
    "    if not nums:\n",
    "        return -1\n",
    "\n",
    "    maxNum = max(nums)\n",
    "\n",
    "    if (maxNum < 0):\n",
    "        return -1\n",
    "\n",
    "    sortedList = [-1] * (maxNum + 1)\n",
    "\n",
    "    for index, value in enumerate(sortedList):\n",
    "        nums[index] == index\n",
    "\n",
    "    for value in nums:\n",
    "      sortedList[value] = value\n",
    "\n",
    "    output = []\n",
    "\n",
    "    for index, value in enumerate(sortedList):\n",
    "      if (value == -1):\n",
    "          output.append(index)\n",
    "          \n",
    "    if not output:\n",
    "        return -1\n",
    "\n",
    "    return output"
   ]
  },
  {
   "cell_type": "code",
   "execution_count": 13,
   "metadata": {},
   "outputs": [
    {
     "name": "stdout",
     "output_type": "stream",
     "text": [
      "[0, 1, 2, 3, 4, 5, 6, 7, 8]\n",
      "-1\n",
      "-1\n",
      "-1\n",
      "[4, 9]\n",
      "[2, 3, 4]\n"
     ]
    }
   ],
   "source": [
    "print(missing_num([9, 9]))\n",
    "\n",
    "print(missing_num([]))\n",
    "\n",
    "print(missing_num([0]))\n",
    "\n",
    "print(missing_num([0, 1, 2, 3, 4]))\n",
    "\n",
    "print(missing_num([6, 8, 2, 3, 5, 7, 0, 1, 10]))\n",
    "\n",
    "print(missing_num([5, 0, 1]))\n",
    "\n"
   ]
  },
  {
   "cell_type": "markdown",
   "metadata": {},
   "source": [
    "\n",
    "-   Explain why your solution works\n"
   ]
  },
  {
   "cell_type": "code",
   "execution_count": null,
   "metadata": {},
   "outputs": [],
   "source": [
    "# Your answer here\n",
    "# I would first check for the maximum element in my list, which would allow me to determine the max size of the list (sortedList) I will use to hold all the values\n",
    "# I would then iterate through my input list (nums) and map each element to the corresponding index in the holder list (sortedList)\n",
    "    # This step allows me to identify which numbers is present in my input (nums) list, and which numbers I am missing (presence of -1).\n",
    "# I would then iterate through my now sorted (sortedList) holder list, and for each element that has a value of negative 1, I would put the index into my output(ouput) list\n",
    "    # This step would just list down all of the missing values as required by the problem\n",
    "# I would then return my output list\n",
    "# any functions that return -1 is there to check for edge cases\n"
   ]
  },
  {
   "cell_type": "markdown",
   "metadata": {},
   "source": [
    "\n",
    "-   Explain the problem’s time and space complexity\n"
   ]
  },
  {
   "cell_type": "code",
   "execution_count": null,
   "metadata": {},
   "outputs": [],
   "source": [
    "# Your answer here\n",
    "# Time complexity:\n",
    "# Each checker function to return -1 should have a time complexity of O(1)\n",
    "# Checking for max would have a time complexity of O(n)\n",
    "# Iterating through the first time to map the input to a complete array would give a time complexity of O(n)\n",
    "# iterating through the second time to check for missing values would give a time complexity of O(n)\n",
    "# Total time complexity would be O(3 * n) + O(1) which could be simplified to O(n)\n",
    "\n",
    "# Space complexity:\n",
    "# maxNum should be O(1) to just store the max element\n",
    "# sortedList should be O(maxNum) - this would always have a length of maxNum, which can be simplified to O(n)\n",
    "# nums would be O(n) \n",
    "# output would be O(maxNum - n) - which can also be simplified to O(n), we can probably reuse nums, and overwrite with output values, but would be more concise to write it down.\n",
    "# Simplifying above should give us an overall space complexity of O(n)\n"
   ]
  },
  {
   "cell_type": "markdown",
   "metadata": {},
   "source": [
    "\n",
    "-   Explain the thinking to an alternative solution (no coding required, but a classmate reading this should be able to code it up based off your text)\n"
   ]
  },
  {
   "cell_type": "code",
   "execution_count": null,
   "metadata": {},
   "outputs": [],
   "source": [
    "# Your answer here\n",
    "# An alternative solution might be to compute for the missing values.\n",
    "# Sort the initial input list in ascending order and convert to set\n",
    "    # This will ensure that we do not have any duplicate entries.\n",
    "# Iterate through the sorted set and while iterating, perform a comparison between the previous and next element, i and i + 1, making sure that you do not go out of bounds.\n",
    "    # Compute for the difference between the previous and next element, if the difference is more than one, then we know there are missing values in between.\n",
    "    # You would need to generate roughly the difference - 1 number of elements (validate if computation is correct, adjust accordingly)\n",
    "    # There should be an existing function in python that would print a range of numbers, use this an append to your output list\n",
    "        # If a function does not exist, you can create your own to generate the numbers in between\n",
    "    # Continue performing these operations until you run through the entire sorted set.\n",
    "# Consider edge cases\n",
    "    # Take into account if zero is missing, as this would make the number of elements in between be equal to the difference (validate if computation is correct, adjust accordingly)\n",
    "        # alternatively, you can put in an initial condition that would handle the missing zero.\n",
    "    # Handle a case if the input is already empty\n",
    "    # Handle a case where there are no missing numbers, if the size of the sorted set is equal to maxNum + 1 (validate if computation is correct, adjust accordingly), then it should no longer have missing numbers."
   ]
  },
  {
   "cell_type": "markdown",
   "metadata": {},
   "source": [
    "## Evaluation Criteria\n",
    "\n",
    "-   Problem is accurately stated\n",
    "\n",
    "-   Two examples are correct and easily understandable\n",
    "\n",
    "-   Correctness, time, and space complexity of the coding solution\n",
    "\n",
    "-   Clarity in explaining why the solution works, its time and space complexity\n",
    "\n",
    "-   Clarity in the proposal to the alternative solution"
   ]
  },
  {
   "cell_type": "markdown",
   "metadata": {},
   "source": [
    "## Submission Information\n",
    "\n",
    "🚨 **Please review our [Assignment Submission Guide](https://github.com/UofT-DSI/onboarding/blob/main/onboarding_documents/submissions.md)** 🚨 for detailed instructions on how to format, branch, and submit your work. Following these guidelines is crucial for your submissions to be evaluated correctly.\n",
    "\n",
    "### Submission Parameters:\n",
    "* Submission Due Date: `HH:MM AM/PM - DD/MM/YYYY`\n",
    "* The branch name for your repo should be: `assignment-1`\n",
    "* What to submit for this assignment:\n",
    "    * This Jupyter Notebook (assignment_1.ipynb) should be populated and should be the only change in your pull request.\n",
    "* What the pull request link should look like for this assignment: `https://github.com/<your_github_username>/algorithms_and_data_structures/pull/<pr_id>`\n",
    "    * Open a private window in your browser. Copy and paste the link to your pull request into the address bar. Make sure you can see your pull request properly. This helps the technical facilitator and learning support staff review your submission easily.\n",
    "\n",
    "Checklist:\n",
    "- [x] Create a branch called `assignment-1`.\n",
    "- [x] Ensure that the repository is public.\n",
    "- [x] Review [the PR description guidelines](https://github.com/UofT-DSI/onboarding/blob/main/onboarding_documents/submissions.md#guidelines-for-pull-request-descriptions) and adhere to them.\n",
    "- [x] Verify that the link is accessible in a private browser window.\n",
    "\n",
    "If you encounter any difficulties or have questions, please don't hesitate to reach out to our team via our Slack at `#cohort-3-help`. Our Technical Facilitators and Learning Support staff are here to help you navigate any challenges."
   ]
  }
 ],
 "metadata": {
  "kernelspec": {
   "display_name": "dsi_participant",
   "language": "python",
   "name": "python3"
  },
  "language_info": {
   "codemirror_mode": {
    "name": "ipython",
    "version": 3
   },
   "file_extension": ".py",
   "mimetype": "text/x-python",
   "name": "python",
   "nbconvert_exporter": "python",
   "pygments_lexer": "ipython3",
   "version": "3.9.15"
  }
 },
 "nbformat": 4,
 "nbformat_minor": 2
}
